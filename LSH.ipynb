{
 "cells": [
  {
   "cell_type": "code",
   "execution_count": 223,
   "metadata": {},
   "outputs": [],
   "source": [
    "import numpy as np\n",
    "import matplotlib.pyplot as plt\n",
    "from collections import Counter\n",
    "from sklearn.preprocessing import StandardScaler\n",
    "from jupyterthemes import jtplot\n",
    "\n",
    "\n",
    "# currently installed theme will be used to\n",
    "# set plot style if no arguments provided\n",
    "jtplot.style()"
   ]
  },
  {
   "cell_type": "code",
   "execution_count": 141,
   "metadata": {},
   "outputs": [],
   "source": [
    "class LSH:\n",
    "    def __init__(self, k, store_digest=False, seed=42):\n",
    "        \"\"\"\n",
    "        \n",
    "        \"\"\"\n",
    "        self.k = k\n",
    "        self.store_digest = store_digest\n",
    "        self.seed = seed\n",
    "        self.unique_classes = 0 \n",
    "        \n",
    "\n",
    "    def generate_Wt(self):\n",
    "        \"\"\"\n",
    "        Randomly Generate N points on a d-dimensional sphere\n",
    "        \"\"\"\n",
    "        # For reproducibility \n",
    "        np.random.seed(self.seed)\n",
    "        norm = np.random.normal\n",
    "        normal_deviates = norm(size=(self.d, self.k))\n",
    "        radius = np.sqrt((normal_deviates**2).sum(axis=0))\n",
    "        points = normal_deviates/radius\n",
    "        self.Wt = points.T\n",
    "    \n",
    "    def digest(self, X):\n",
    "        if self.Wt is None:\n",
    "            raise(\"Fit error: please invoke .fit()\")\n",
    "        hashes = ((self.Wt @ X) >=0).astype(int)\n",
    "        items = list(map(tuple,hashes.T))\n",
    "        return items \n",
    "    \n",
    "    def transform(self, X):\n",
    "        \"\"\"\n",
    "        X -- d x N matrix \n",
    "        \"\"\"\n",
    "        mapped = self.digest(X)\n",
    "        y = []\n",
    "        for i in mapped:\n",
    "            if i not in self.hash_table:\n",
    "                self.hash_table[i] = self.unique_classes\n",
    "                self.unique_classes +=1 \n",
    "            class_label = self.hash_table[i]\n",
    "            y.append(class_label)\n",
    "        return np.array(y)\n",
    "            \n",
    "\n",
    "        \n",
    "    def fit(self, X):\n",
    "        self.hash_table = {}\n",
    "        self.d = X.shape[0]\n",
    "        self.generate_Wt()\n",
    "        self.transform(X)\n",
    "            \n",
    "        "
   ]
  },
  {
   "cell_type": "code",
   "execution_count": 142,
   "metadata": {},
   "outputs": [
    {
     "data": {
      "text/plain": [
       "(2, 100)"
      ]
     },
     "execution_count": 142,
     "metadata": {},
     "output_type": "execute_result"
    }
   ],
   "source": [
    "X = np.random.rand(2, 100)\n",
    "X.shape"
   ]
  },
  {
   "cell_type": "code",
   "execution_count": 185,
   "metadata": {},
   "outputs": [],
   "source": [
    "scale = StandardScaler()"
   ]
  },
  {
   "cell_type": "code",
   "execution_count": 186,
   "metadata": {},
   "outputs": [],
   "source": [
    "X = scale.fit_transform(X.T).T"
   ]
  },
  {
   "cell_type": "code",
   "execution_count": 195,
   "metadata": {},
   "outputs": [],
   "source": [
    "lsh = LSH(3, seed=12345)"
   ]
  },
  {
   "cell_type": "code",
   "execution_count": 196,
   "metadata": {},
   "outputs": [],
   "source": [
    "lsh.fit(X)"
   ]
  },
  {
   "cell_type": "code",
   "execution_count": 197,
   "metadata": {},
   "outputs": [
    {
     "data": {
      "text/plain": [
       "array([0, 0, 0, 1, 0, 2, 0, 0, 1, 1, 1, 3, 0, 0, 1, 4, 1, 1, 1, 5, 0, 1,\n",
       "       4, 0, 1, 0, 0, 1, 4, 1, 1, 1, 0, 3, 1, 1, 0, 1, 1, 3, 0, 1, 0, 0,\n",
       "       1, 0, 1, 0, 0, 0, 1, 0, 1, 1, 1, 3, 0, 1, 4, 1, 0, 1, 0, 4, 0, 1,\n",
       "       5, 1, 0, 0, 1, 0, 0, 3, 3, 1, 1, 0, 0, 0, 1, 1, 0, 0, 0, 0, 2, 1,\n",
       "       1, 0, 3, 1, 1, 0, 1, 1, 2, 0, 3, 1])"
      ]
     },
     "execution_count": 197,
     "metadata": {},
     "output_type": "execute_result"
    }
   ],
   "source": [
    "z = lsh.transform(X)\n",
    "z"
   ]
  },
  {
   "cell_type": "code",
   "execution_count": 198,
   "metadata": {},
   "outputs": [
    {
     "data": {
      "text/plain": [
       "{(0, 1, 1): 0,\n",
       " (1, 0, 0): 1,\n",
       " (1, 1, 1): 2,\n",
       " (0, 1, 0): 3,\n",
       " (1, 0, 1): 4,\n",
       " (0, 0, 0): 5}"
      ]
     },
     "execution_count": 198,
     "metadata": {},
     "output_type": "execute_result"
    }
   ],
   "source": [
    "lsh.hash_table"
   ]
  },
  {
   "cell_type": "code",
   "execution_count": 199,
   "metadata": {},
   "outputs": [
    {
     "data": {
      "text/plain": [
       "6"
      ]
     },
     "execution_count": 199,
     "metadata": {},
     "output_type": "execute_result"
    }
   ],
   "source": [
    "len(lsh.hash_table)"
   ]
  },
  {
   "cell_type": "code",
   "execution_count": 203,
   "metadata": {},
   "outputs": [],
   "source": [
    "# Step size of the mesh. Decrease to increase the quality of the VQ.\n",
    "h = .002     # point in the mesh [x_min, x_max]x[y_min, y_max].\n",
    "\n",
    "# Plot the decision boundary. For that, we will assign a color to each\n",
    "x_min, x_max = X[0].min() - 1, X[0].max() + 1\n",
    "y_min, y_max = X[1].min() - 1, X[1].max() + 1\n",
    "xx, yy = np.meshgrid(np.arange(x_min, x_max, h), np.arange(y_min, y_max, h))\n",
    "\n",
    "# Obtain labels for each point in mesh. Use last trained model.\n",
    "Z = lsh.transform(np.c_[xx.ravel().T, yy.ravel().T].T)"
   ]
  },
  {
   "cell_type": "code",
   "execution_count": 248,
   "metadata": {},
   "outputs": [
    {
     "data": {
      "image/png": "[encoded data removed]",
      "text/plain": [
       "<matplotlib.figure.Figure at 0x10fce5940>"
      ]
     },
     "metadata": {},
     "output_type": "display_data"
    }
   ],
   "source": [
    "# Put the result into a color plot\n",
    "origin = [0], [0]\n",
    "\n",
    "Z = Z.reshape(xx.shape)\n",
    "plt.figure(figsize=(15,15))\n",
    "#plt.quiver(*origin, 10 * lsh.Wt[:,0], 10 * lsh.Wt[:,0])\n",
    "plt.clf()\n",
    "plt.imshow(Z, interpolation='nearest',\n",
    "           extent=(xx.min(), xx.max(), yy.min(), yy.max()),\n",
    "           cmap=plt.cm.Paired,\n",
    "           aspect='auto', origin='lower')\n",
    "plt.scatter(X[0], X[1])\n",
    "plt.title('LSH')\n",
    "plt.xlim(x_min, x_max)\n",
    "plt.ylim(y_min, y_max)\n",
    "plt.xticks(())\n",
    "plt.yticks(())\n",
    "\n",
    "plt.show()"
   ]
  },
  {
   "cell_type": "code",
   "execution_count": 247,
   "metadata": {},
   "outputs": [],
   "source": [
    "#plt.quiver(np.zeros(lsh.Wt.shape[0]),  lsh.Wt[:,0],  lsh.Wt[:,1], scale=1)"
   ]
  },
  {
   "cell_type": "code",
   "execution_count": 242,
   "metadata": {},
   "outputs": [
    {
     "data": {
      "text/plain": [
       "(3, 2)"
      ]
     },
     "execution_count": 242,
     "metadata": {},
     "output_type": "execute_result"
    }
   ],
   "source": [
    "lsh.Wt.shape[0]"
   ]
  },
  {
   "cell_type": "code",
   "execution_count": 214,
   "metadata": {},
   "outputs": [
    {
     "data": {
      "text/plain": [
       "array([-0.3456532 ,  0.23671577, -0.34930196])"
      ]
     },
     "execution_count": 214,
     "metadata": {},
     "output_type": "execute_result"
    }
   ],
   "source": [
    "lsh.Wt[:,0]"
   ]
  },
  {
   "cell_type": "code",
   "execution_count": null,
   "metadata": {},
   "outputs": [],
   "source": []
  }
 ],
 "metadata": {
  "kernelspec": {
   "display_name": "Python 3",
   "language": "python",
   "name": "python3"
  },
  "language_info": {
   "codemirror_mode": {
    "name": "ipython",
    "version": 3
   },
   "file_extension": ".py",
   "mimetype": "text/x-python",
   "name": "python",
   "nbconvert_exporter": "python",
   "pygments_lexer": "ipython3",
   "version": "3.6.6"
  }
 },
 "nbformat": 4,
 "nbformat_minor": 2
}
