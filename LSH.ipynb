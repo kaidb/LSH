{
 "cells": [
  {
   "cell_type": "code",
   "execution_count": 83,
   "metadata": {},
   "outputs": [],
   "source": [
    "import numpy as np\n",
    "import matplotlib.pyplot as plt\n",
    "from collections import Counter"
   ]
  },
  {
   "cell_type": "code",
   "execution_count": 134,
   "metadata": {},
   "outputs": [],
   "source": [
    "class LSH:\n",
    "    def __init__(self, k, store_digest=False, seed=42):\n",
    "        \"\"\"\n",
    "        \n",
    "        \"\"\"\n",
    "        self.k = k\n",
    "        self.store_digest = store_digest\n",
    "        self.seed = seed\n",
    "        self.unique_classes = 0 \n",
    "        \n",
    "\n",
    "    def generate_Wt(self):\n",
    "        \"\"\"\n",
    "        Randomly Generate N points on a d-dimensional sphere\n",
    "        \"\"\"\n",
    "        # For reproducibility \n",
    "        np.random.seed(self.seed)\n",
    "        norm = np.random.normal\n",
    "        normal_deviates = norm(size=(self.d, self.k))\n",
    "        radius = np.sqrt((normal_deviates**2).sum(axis=0))\n",
    "        points = normal_deviates/radius\n",
    "        self.Wt = points.T\n",
    "    \n",
    "    def digest(self, X):\n",
    "        if self.Wt is None:\n",
    "            raise(\"Fit error: please invoke .fit()\")\n",
    "        hashes = ((self.Wt @ X) >=0).astype(int)\n",
    "        items = list(map(tuple,hashes.T))\n",
    "        return items \n",
    "    \n",
    "    def transform(self, X):\n",
    "        \"\"\"\n",
    "        X -- d x N matrix \n",
    "        \"\"\"\n",
    "        mapped = self.digest(X)\n",
    "        y = []\n",
    "        for i in mapped:\n",
    "            if i not in self.hash_table:\n",
    "                self.hash_table[i] = self.unique_classes\n",
    "                self.unique_classes +=1 \n",
    "            class_label = self.hash_table[i]\n",
    "            y.append(class_label)\n",
    "        return np.array(y).reshape(len(y), 1)\n",
    "            \n",
    "\n",
    "        \n",
    "    def fit(self, X):\n",
    "        self.hash_table = {}\n",
    "        self.d = X.shape[0]\n",
    "        self.generate_Wt()\n",
    "        self.transform(X)\n",
    "            \n",
    "        "
   ]
  },
  {
   "cell_type": "code",
   "execution_count": 135,
   "metadata": {},
   "outputs": [
    {
     "data": {
      "text/plain": [
       "(2, 100)"
      ]
     },
     "execution_count": 135,
     "metadata": {},
     "output_type": "execute_result"
    }
   ],
   "source": [
    "X = np.random.rand(2, 100)\n",
    "X.shape"
   ]
  },
  {
   "cell_type": "code",
   "execution_count": 136,
   "metadata": {},
   "outputs": [],
   "source": [
    "lsh = LSH(5)"
   ]
  },
  {
   "cell_type": "code",
   "execution_count": 137,
   "metadata": {},
   "outputs": [],
   "source": [
    "lsh.fit(X)"
   ]
  },
  {
   "cell_type": "code",
   "execution_count": 138,
   "metadata": {},
   "outputs": [
    {
     "data": {
      "text/plain": [
       "array([[0],\n",
       "       [0],\n",
       "       [1],\n",
       "       [2],\n",
       "       [3],\n",
       "       [3],\n",
       "       [3],\n",
       "       [0],\n",
       "       [3],\n",
       "       [2],\n",
       "       [3],\n",
       "       [3],\n",
       "       [0],\n",
       "       [3],\n",
       "       [4],\n",
       "       [0],\n",
       "       [3],\n",
       "       [3],\n",
       "       [3],\n",
       "       [2],\n",
       "       [3],\n",
       "       [2],\n",
       "       [3],\n",
       "       [0],\n",
       "       [3],\n",
       "       [1],\n",
       "       [0],\n",
       "       [3],\n",
       "       [0],\n",
       "       [2],\n",
       "       [3],\n",
       "       [4],\n",
       "       [3],\n",
       "       [3],\n",
       "       [2],\n",
       "       [3],\n",
       "       [3],\n",
       "       [2],\n",
       "       [2],\n",
       "       [3],\n",
       "       [3],\n",
       "       [2],\n",
       "       [0],\n",
       "       [0],\n",
       "       [0],\n",
       "       [1],\n",
       "       [3],\n",
       "       [1],\n",
       "       [3],\n",
       "       [3],\n",
       "       [2],\n",
       "       [3],\n",
       "       [1],\n",
       "       [2],\n",
       "       [3],\n",
       "       [3],\n",
       "       [3],\n",
       "       [4],\n",
       "       [0],\n",
       "       [2],\n",
       "       [3],\n",
       "       [2],\n",
       "       [3],\n",
       "       [0],\n",
       "       [1],\n",
       "       [3],\n",
       "       [2],\n",
       "       [2],\n",
       "       [1],\n",
       "       [0],\n",
       "       [3],\n",
       "       [3],\n",
       "       [3],\n",
       "       [3],\n",
       "       [3],\n",
       "       [3],\n",
       "       [3],\n",
       "       [3],\n",
       "       [3],\n",
       "       [3],\n",
       "       [3],\n",
       "       [3],\n",
       "       [3],\n",
       "       [3],\n",
       "       [0],\n",
       "       [0],\n",
       "       [0],\n",
       "       [2],\n",
       "       [3],\n",
       "       [3],\n",
       "       [3],\n",
       "       [4],\n",
       "       [2],\n",
       "       [3],\n",
       "       [4],\n",
       "       [3],\n",
       "       [3],\n",
       "       [0],\n",
       "       [3],\n",
       "       [2]])"
      ]
     },
     "execution_count": 138,
     "metadata": {},
     "output_type": "execute_result"
    }
   ],
   "source": [
    "z = lsh.transform(X)\n",
    "z"
   ]
  },
  {
   "cell_type": "code",
   "execution_count": 140,
   "metadata": {},
   "outputs": [
    {
     "data": {
      "text/plain": [
       "{(0, 1, 1, 0, 1): 0,\n",
       " (0, 1, 1, 1, 1): 1,\n",
       " (1, 1, 1, 1, 0): 2,\n",
       " (1, 1, 1, 1, 1): 3,\n",
       " (1, 0, 1, 1, 0): 4}"
      ]
     },
     "execution_count": 140,
     "metadata": {},
     "output_type": "execute_result"
    }
   ],
   "source": [
    "lsh.hash_table"
   ]
  },
  {
   "cell_type": "code",
   "execution_count": null,
   "metadata": {},
   "outputs": [],
   "source": []
  }
 ],
 "metadata": {
  "kernelspec": {
   "display_name": "Python 3",
   "language": "python",
   "name": "python3"
  },
  "language_info": {
   "codemirror_mode": {
    "name": "ipython",
    "version": 3
   },
   "file_extension": ".py",
   "mimetype": "text/x-python",
   "name": "python",
   "nbconvert_exporter": "python",
   "pygments_lexer": "ipython3",
   "version": "3.6.6"
  }
 },
 "nbformat": 4,
 "nbformat_minor": 2
}
